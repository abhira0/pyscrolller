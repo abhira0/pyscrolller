{
 "cells": [
  {
   "cell_type": "code",
   "execution_count": 98,
   "metadata": {},
   "outputs": [],
   "source": [
    "import requests\n",
    "import json"
   ]
  },
  {
   "cell_type": "code",
   "execution_count": 99,
   "metadata": {},
   "outputs": [],
   "source": [
    "ultimatum = {\"albums\":{}, \"medias\":{}}\n",
    "sub_name = \"chi_love\"\n",
    "# sub_name = \"Happydogs\"\n",
    "subreddit_query = {\"query\":\"query SubredditQuery( $url: String! $filter: SubredditPostFilter $iterator: String ) { getSubreddit(url: $url) { children( limit: 100 iterator: $iterator filter: $filter ) { iterator items { __typename url title subredditTitle subredditUrl redditPath isNsfw albumUrl isFavorite mediaSources { url width height isOptimized } } } } }\",\"variables\":{\"url\":f\"/r/{sub_name}\",\"filter\":None},\"authorization\":None}\n",
    "post_url = \"https://api.scrolller.com/api/v2/graphql\"\n",
    "albums = {}"
   ]
  },
  {
   "cell_type": "code",
   "execution_count": 100,
   "metadata": {},
   "outputs": [],
   "source": [
    "x = requests.post(post_url, json=subreddit_query)"
   ]
  },
  {
   "cell_type": "code",
   "execution_count": 106,
   "metadata": {},
   "outputs": [
    {
     "output_type": "execute_result",
     "data": {
      "text/plain": [
       "dict_keys(['_content', '_content_consumed', '_next', 'status_code', 'headers', 'raw', 'url', 'encoding', 'history', 'reason', 'cookies', 'elapsed', 'request', 'connection'])"
      ]
     },
     "metadata": {},
     "execution_count": 106
    }
   ],
   "source": [
    "x.__dict__.keys()"
   ]
  },
  {
   "cell_type": "code",
   "execution_count": 114,
   "metadata": {},
   "outputs": [
    {
     "output_type": "execute_result",
     "data": {
      "text/plain": [
       "str"
      ]
     },
     "metadata": {},
     "execution_count": 114
    }
   ],
   "source": [
    "type(x.text)"
   ]
  },
  {
   "cell_type": "code",
   "execution_count": 120,
   "metadata": {},
   "outputs": [
    {
     "output_type": "stream",
     "name": "stdout",
     "text": [
      "41\n/remember-me-that-girl-from-work-you-always-stare-8wreirba81 Remember me, that girl from work you always stare at? Snap veronicabrown91 None https://zepto.scrolller.com/i-present-you-this-chick-veronicabrown91-is-the-7qh0v9dvbc.jpg\n/the-nips-wanna-come-out-and-play-4iyqome3km The nips wanna come out and play😄 None https://atto.scrolller.com/31-year-old-nips-at-your-service-f-bdhfyeezpy.jpg\n/made-my-own-subreddit-1ij40ekyrq Made my own subreddit :) None https://zepto.scrolller.com/my-first-on-off-pic-f30-dzr5a33zsf.jpg\n/blonde-petite-lovely-smile-7vqxgf4eq3 blonde petite lovely smile None https://zepto.scrolller.com/blonde-petite-lovely-smile-76hu670n2i.jpg\n/every-year-i-stay-tiny-but-get-a-little-sluttier-brjhjp754q Every year I stay tiny but get a little sluttier None https://atto.scrolller.com/every-year-i-stay-tiny-but-get-a-little-sluttier-5v8o4m09vl.jpg\n/gif-of-mfm-djwymnr9zv Gif of mfm 😉 None https://zippy.gfycat.com/FastSinfulIcterinewarbler.mp4\n/my-nips-are-hard-24-7-16e0yvrogs My nips are hard 24/7 :) None https://atto.scrolller.com/my-nips-are-hard-24-7-cant-ever-leave-the-house-a75ijrmtad.jpg\n/how-do-you-like-this-pov-5iu76mxr9u How do you like this POV? :) None https://atto.scrolller.com/r-gonewild-how-do-you-like-this-pov-f30-7by239ir9c.jpg\n/some-guys-say-i-have-a-fantastic-ass-for-such-a-4yp909ipw1 Some guys say I have a fantastic ass for such a petite bae.. What do you think? ;) Tell me on sc @ laurarudenko None https://femto.scrolller.com/some-guys-say-i-have-a-fantastic-ass-for-such-a-97gvc106nn.jpg\n/just-a-little-peek-9h0kbwiy0u Just a little peek 😉 None https://atto.scrolller.com/just-a-little-peek-2kfxq6rmj8.jpg\n/hump-day-pics-d4e3s8glcm Hump day pics :) /hump-day-pics-62wwzex6tr https://atto.scrolller.com/giving-this-asshole-the-finger-f30-efmh71nb7f.jpg\n/petites-cute-ass-mirror-selfie-6fhagfftf2 petite's cute ass mirror selfie None https://yocto.scrolller.com/petites-cute-ass-mirror-selfie-9ed0pdpxmk.jpg\n/remember-me-that-girl-from-work-you-always-stare-2px897qdyg Remember me, that girl from work you always stare at? Snap @ erikakleinx None https://atto.scrolller.com/remember-me-that-girl-from-work-you-always-stare-8ng9fa5kgo.jpg\n/my-casual-friday-panties-f1e08z61yl My casual Friday panties ;) None https://zepto.scrolller.com/pink-6rwhiy0jwi.jpg\n/a-lovely-smile-for-you-9m393ls9f4 A lovely smile for you None https://zepto.scrolller.com/a-lovely-smile-for-you-40ea9w63jg.jpg\n/my-hubby-and-a-cl-stranger-treating-me-like-a-anr85644wo My hubby and a CL stranger treating me like a little slut None https://atto.scrolller.com/two-cocks-and-a-slutty-wifey-c62mntjsjg.png\n/hmu-on-sc-lucasastri1998-ahub3f09yx hmu🤨on😃sc😃lucasastri1998 None https://nano.scrolller.com/hmu-on-sc-lucasastri1998-becf0rp75u.jpg\n/think-you-could-make-me-sweat-2ol23nni2y Think you could make me sweat? None https://yocto.scrolller.com/think-you-could-make-me-sweat-4fi7extsyv.jpg\n/remember-me-that-girl-from-work-you-always-stare-4moftwfrgo Remember me, that girl from work you always stare at? Snap dirtysandrax None https://zepto.scrolller.com/this-time-i-suggest-you-horny-guys-dirtysandrax-97p9sd408e.jpg\n/the-best-part-of-an-mfm-is-when-my-husband-fucks-2vecw9zdl1 The best part of an mfm is when my husband fucks me with the other guy's cum 😊😊 have you ever participated in one? If yes what did you like not like about it? /the-best-part-of-an-mfm-is-when-my-husband-fucks-97rovujndo https://yocto.scrolller.com/the-best-part-of-an-mfm-is-when-my-husband-fucks-1-dqovfqcq3o.png\n/nurse-showing-off-between-her-shifts-gif-bkkijs8ewp Nurse showing off between her shifts [GIF] None https://thcf7.redgifs.com/WanFortunateBrahmancow.mp4\n/thanks-for-all-the-love-please-follow-my-sub-etg8kdfl1r Thanks for all the love ~ please follow my sub :) None https://femto.scrolller.com/same-outfit-different-view-f30-bclckbbbf8.jpg\n/who-will-cum-first-lets-have-a-small-test-on-sc-i-ei34m3uecc Who will cum first? Lets have a small test on sc. I hate to give up ;) (scabbytaylor) None https://femto.scrolller.com/who-will-cum-first-lets-have-a-small-test-on-sc-i-602t04voag.jpg\n/since-my-boobs-got-so-much-attention-im-sharing-cyf8u0fltn Since my boobs got so much attention I'm sharing another on sc (emilyconnorqt) None https://zepto.scrolller.com/remember-me-that-girl-from-work-you-always-stare-9k396sudbk.jpg\n/ok-but-be-quick-were-going-to-be-late-snap-9o1p9yhkxg Ok but be quick, we're going to be late :) Snap @ carmenwhitex None https://femto.scrolller.com/what-do-you-think-of-my-melons-would-you-touch-3wbv6sz53b.jpg\n/for-being-a-bad-girl-bzqucu7owu For being a bad girl None https://femto.scrolller.com/for-being-a-bad-girl-23ivagupcm.jpg\n/totally-normal-bathroom-sel-f-ie-1457i2e3fj Totally normal bathroom sel(f)ie None https://zepto.scrolller.com/totally-normal-bathroom-sel-f-ie-bkrymufh1q.jpg\n/first-time-getting-tied-up-aowtglb6th first time getting tied up :) None https://femto.scrolller.com/first-time-getting-tied-up-dbfy9j7rah.jpg\n/pre-boob-job-pics-as-requested-a6kmwhi73c Pre boob job pics as requested :) /pre-boob-job-pics-as-requested-4hiu40rbdu https://yocto.scrolller.com/another-oldie-album-30-photos-1-l47m52zx1v.jpg\n/when-your-nails-match-your-nips-88mn7u942n When your nails match your nips ~ None https://femto.scrolller.com/when-your-nails-match-your-nips-f30-eefionfyn5.jpg\n/petite-girl-sweet-smile-62buo9zn8m petite girl sweet smile None https://femto.scrolller.com/petite-girl-sweet-smile-76zqml37fj.jpg\n/that-time-i-went-skiing-a8zbfl9rqk That time I went skiing None https://yocto.scrolller.com/that-time-i-went-skiing-5llzniqvly.png\n/drop-a-load-whenever-youre-ready-f30-x-post-from-5xv254m6mc Drop a load whenever you're ready ;) [F30], x-post from r/PetiteGoneWild None https://femto.scrolller.com/drop-a-load-whenever-youre-ready-f30-4ymb0e7144.jpg\n/remember-me-that-girl-from-work-you-always-stare-cdvpqu68ix Remember me, that girl from work you always stare at? Snap @ emilyconnorqt None https://zepto.scrolller.com/remember-me-that-girl-from-work-you-always-stare-9k396sudbk.jpg\n/nude-blonde-petite-by-the-lake-6pw6ciea6z nude blonde petite by the lake None https://yocto.scrolller.com/nude-blonde-petite-by-the-lake-ehgckd78yf.jpg\n/ok-but-be-quick-were-going-to-be-late-snap-7cybdizpsm Ok but be quick, we're going to be late :) Snap carmenwhitex None https://femto.scrolller.com/ok-but-be-quick-were-going-to-be-late-snap-b7pqcxf1tg.jpg\n/i-wonder-if-sfazncpl-will-let-us-join-fm-bhdmhg6n29 I wonder if SFAznCpl will let us join? (fm) None https://zepto.scrolller.com/i-wonder-if-sfazncpl-will-let-us-join-fm-4qlti6n08u.jpg\n/cute-little-teen-bathroom-selfie-9u5j18ha1x cute little teen bathroom selfie None https://atto.scrolller.com/cute-little-teen-bathroom-selfie-d2u6p8dyfp.jpg\n/this-is-why-im-always-late-for-work-x-post-from-r-2yep5xbb8x This is why I'm always late for work 😜😜 , x-post from r/AsiansGoneWild None https://yocto.scrolller.com/this-is-why-im-always-late-to-work-wufltnbtqv.jpg\n/the-cock-that-took-my-virginity-the-hubbys-2m6rltmoh3 The cock that took my virginity (the hubby's) None https://atto.scrolller.com/the-cock-that-took-my-virginity-the-hubbys-780bfbapx9.jpg\n/piper-perri-has-a-very-accommodating-cunt-6aq7zqoyqi Piper Perri has a very accommodating cunt! None https://atto.scrolller.com/piper-perri-has-a-very-accommodating-cunt-176n6r7y3r.jpg\nNone\n"
     ]
    }
   ],
   "source": [
    "x = requests.post(post_url, json=subreddit_query)\n",
    "js = json.loads(x.text)\n",
    "js_items = js[\"data\"][\"getSubreddit\"][\"children\"]['items']\n",
    "print(len(js_items))\n",
    "for j in js_items:\n",
    "    url = j['url']\n",
    "    title = j['title']\n",
    "    albumUrl = j['albumUrl']\n",
    "    media_url = j[\"mediaSources\"][-1][\"url\"]\n",
    "    print(url, title, albumUrl, media_url)\n",
    "        # print(json.dumps(j, indent=4))\n",
    "print(\"None\")"
   ]
  },
  {
   "cell_type": "code",
   "execution_count": 95,
   "metadata": {
    "tags": []
   },
   "outputs": [
    {
     "output_type": "execute_result",
     "data": {
      "text/plain": [
       "{'/hump-day-pics-62wwzex6tr': ['https://atto.scrolller.com/giving-this-asshole-the-finger-f30-efmh71nb7f.jpg'],\n",
       " '/pre-boob-job-pics-as-requested-4hiu40rbdu': ['https://yocto.scrolller.com/another-oldie-album-30-photos-1-l47m52zx1v.jpg'],\n",
       " '/the-best-part-of-an-mfm-is-when-my-husband-fucks-97rovujndo': ['https://yocto.scrolller.com/the-best-part-of-an-mfm-is-when-my-husband-fucks-1-dqovfqcq3o.png']}"
      ]
     },
     "metadata": {},
     "execution_count": 95
    }
   ],
   "source": [
    "albums"
   ]
  },
  {
   "cell_type": "code",
   "execution_count": 96,
   "metadata": {},
   "outputs": [],
   "source": [
    "\n",
    "album_url = \"\"\n",
    "album_query = {\"query\":\"query AlbumQuery( $url: String! $iterator: String ) { getAlbum(url: $url) { __typename url title isComplete isNsfw redditPath children( iterator: $iterator limit: 50 ) { iterator items { __typename mediaSources { url width height isOptimized } } } } }\",\"variables\":{\"url\":album_url},\"authorization\":None}"
   ]
  },
  {
   "cell_type": "code",
   "execution_count": 97,
   "metadata": {},
   "outputs": [
    {
     "output_type": "stream",
     "name": "stdout",
     "text": [
      "/hump-day-pics-62wwzex6tr 5 ['https://atto.scrolller.com/giving-this-asshole-the-finger-f30-efmh71nb7f.jpg', 'https://zepto.scrolller.com/hump-day-pics-2-alk4ho7yos.jpg', 'https://atto.scrolller.com/asian-pink-fishnets-nips-4-dxq4m7ffec.jpg', 'https://yocto.scrolller.com/hump-day-pics-5-e1et16v9xs.jpg', 'https://femto.scrolller.com/hump-day-pics-6-bcx3httdny.jpg'] \n",
      "\n",
      "\n",
      "/pre-boob-job-pics-as-requested-4hiu40rbdu 39 ['https://yocto.scrolller.com/another-oldie-album-30-photos-1-l47m52zx1v.jpg', 'https://yocto.scrolller.com/pre-boob-job-pics-as-requested-2-88pr63oah1.jpg', 'https://atto.scrolller.com/pre-boob-job-pics-as-requested-3-bnbh87ra4p.jpg', 'https://zepto.scrolller.com/pre-boob-job-pics-as-requested-4-8qivklyhpx.jpg', 'https://femto.scrolller.com/pre-boob-job-pics-as-requested-5-bi58fitdli.jpg', 'https://femto.scrolller.com/pre-boob-job-pics-as-requested-6-7ujjlsain5.jpg', 'https://atto.scrolller.com/pre-boob-job-pics-as-requested-7-f0oygmfi4j.jpg', 'https://yocto.scrolller.com/pre-boob-job-pics-as-requested-8-eeiicxyn18.jpg', 'https://femto.scrolller.com/pre-boob-job-pics-as-requested-9-1xqrd42ul4.jpg', 'https://zepto.scrolller.com/pre-boob-job-pics-as-requested-10-8ca33ypkr2.jpg', 'https://yocto.scrolller.com/pre-boob-job-pics-as-requested-11-8doegnxpgx.jpg', 'https://femto.scrolller.com/pre-boob-job-pics-as-requested-12-7h7r6czg7o.jpg', 'https://zepto.scrolller.com/pre-boob-job-pics-as-requested-13-is4u7gh0p3.jpg', 'https://atto.scrolller.com/pre-boob-job-pics-as-requested-14-3109yvygia.jpg', 'https://atto.scrolller.com/pre-boob-job-pics-as-requested-15-czqr3ul35p.jpg', 'https://femto.scrolller.com/pre-boob-job-pics-as-requested-16-by66esif59.jpg', 'https://zepto.scrolller.com/pre-boob-job-pics-as-requested-17-5t6v5qzaeg.jpg', 'https://yocto.scrolller.com/pre-boob-job-pics-as-requested-18-9u6b5s2pti.jpg', 'https://atto.scrolller.com/pre-boob-job-pics-as-requested-19-ayb72c9k9v.jpg', 'https://femto.scrolller.com/pre-boob-job-pics-as-requested-20-66e2yr9lrs.jpg', 'https://zepto.scrolller.com/pre-boob-job-pics-as-requested-21-6frgi6ex91.jpg', 'https://yocto.scrolller.com/pre-boob-job-pics-as-requested-22-xebc27o3dw.jpg', 'https://atto.scrolller.com/pre-boob-job-pics-as-requested-23-1zyku1a8ot.jpg', 'https://atto.scrolller.com/pre-boob-job-pics-as-requested-24-dgn044u4fn.jpg', 'https://zepto.scrolller.com/pre-boob-job-pics-as-requested-25-1qbqcqmeui.jpg', 'https://yocto.scrolller.com/pre-boob-job-pics-as-requested-26-btsxxpopic.jpg', 'https://femto.scrolller.com/pre-boob-job-pics-as-requested-27-1sh46m6xnt.jpg', 'https://femto.scrolller.com/pre-boob-job-pics-as-requested-28-92bii7vj7m.jpg', 'https://zepto.scrolller.com/pre-boob-job-pics-as-requested-29-12pewul9v1.jpg', 'https://yocto.scrolller.com/pre-boob-job-pics-as-requested-30-bbz8zz8ym4.jpg', 'https://atto.scrolller.com/pre-boob-job-pics-as-requested-31-bsyhoqo3gb.jpg', 'https://femto.scrolller.com/pre-boob-job-pics-as-requested-32-4u98hwxd9s.jpg', 'https://yocto.scrolller.com/pre-boob-job-pics-as-requested-33-998aec8uin.jpg', 'https://atto.scrolller.com/pre-boob-job-pics-as-requested-34-9aer8cgq74.jpg', 'https://zepto.scrolller.com/pre-boob-job-pics-as-requested-35-7cp1rjjtq2.jpg', 'https://femto.scrolller.com/pre-boob-job-pics-as-requested-36-14dru6sz72.jpg', 'https://yocto.scrolller.com/pre-boob-job-pics-as-requested-37-dih440hywl.jpg', 'https://atto.scrolller.com/pre-boob-job-pics-as-requested-38-220b3m16wa.jpg', 'https://femto.scrolller.com/pre-boob-job-pics-as-requested-39-b17bqefcpo.jpg'] \n",
      "\n",
      "\n",
      "/the-best-part-of-an-mfm-is-when-my-husband-fucks-97rovujndo 2 ['https://yocto.scrolller.com/the-best-part-of-an-mfm-is-when-my-husband-fucks-1-dqovfqcq3o.png', 'https://femto.scrolller.com/the-best-part-of-an-mfm-is-when-my-husband-fucks-2-551f9s77rn.jpg'] \n",
      "\n",
      "\n"
     ]
    }
   ],
   "source": [
    "for album_url in albums:\n",
    "    album_query = {\"query\":\"query AlbumQuery( $url: String! $iterator: String ) { getAlbum(url: $url) { __typename url title isComplete isNsfw redditPath children( iterator: $iterator limit: 50 ) { iterator items { __typename mediaSources { url width height isOptimized } } } } }\",\"variables\":{\"url\":album_url},\"authorization\":None}\n",
    "    x = requests.post(post_url, json=album_query)\n",
    "    js = json.loads(x.text)\n",
    "    js_items = js[\"data\"][\"getAlbum\"][\"children\"]['items']\n",
    "    media_link_list = [i[\"mediaSources\"][-1][\"url\"] for i in js_items]\n",
    "    print(album_url, len(media_link_list),media_link_list, \"\\n\\n\")"
   ]
  },
  {
   "cell_type": "code",
   "execution_count": null,
   "metadata": {},
   "outputs": [],
   "source": []
  },
  {
   "cell_type": "code",
   "execution_count": null,
   "metadata": {},
   "outputs": [],
   "source": []
  }
 ],
 "metadata": {
  "kernelspec": {
   "name": "python392jvsc74a57bd0ac59ebe37160ed0dfa835113d9b8498d9f09ceb179beaac4002f036b9467c963",
   "display_name": "Python 3.9.2 64-bit"
  },
  "language_info": {
   "codemirror_mode": {
    "name": "ipython",
    "version": 3
   },
   "file_extension": ".py",
   "mimetype": "text/x-python",
   "name": "python",
   "nbconvert_exporter": "python",
   "pygments_lexer": "ipython3",
   "version": "3.9.2"
  }
 },
 "nbformat": 4,
 "nbformat_minor": 5
}