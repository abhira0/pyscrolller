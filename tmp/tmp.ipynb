{
 "cells": [
  {
   "cell_type": "code",
   "execution_count": 83,
   "metadata": {},
   "outputs": [
    {
     "output_type": "stream",
     "name": "stdout",
     "text": [
      "{'total': 266, None: 266}\ntotal: 266/268  \tRemaining: 2\nNone: 266/268  \tRemaining: 2\n"
     ]
    }
   ],
   "source": []
  },
  {
   "cell_type": "code",
   "execution_count": 95,
   "metadata": {
    "tags": []
   },
   "outputs": [
    {
     "output_type": "stream",
     "name": "stdout",
     "text": [
      "------Albums------\nDownloaded Albums: 266/268\n\tRem: 2 albums\nDownloaded Album Medias: 3728/3783\n\tRem: 55 medias\n------Medias------\nDownloaded Medias: 12066/8349\n\tRem: -3717 albums\n------All Media------\nDownloaded Medias: 8338/12132\n\tRem: 3794 albums\njpg: 10649/10704\n\tRem:55\npng: 787/788\n\tRem:1\nmp4: 630/640\n\tRem:10\n"
     ]
    }
   ],
   "source": []
  },
  {
   "cell_type": "code",
   "execution_count": null,
   "metadata": {},
   "outputs": [],
   "source": []
  }
 ],
 "metadata": {
  "kernelspec": {
   "name": "python392jvsc74a57bd0ac59ebe37160ed0dfa835113d9b8498d9f09ceb179beaac4002f036b9467c963",
   "display_name": "Python 3.9.2 64-bit"
  },
  "language_info": {
   "codemirror_mode": {
    "name": "ipython",
    "version": 3
   },
   "file_extension": ".py",
   "mimetype": "text/x-python",
   "name": "python",
   "nbconvert_exporter": "python",
   "pygments_lexer": "ipython3",
   "version": "3.9.2"
  }
 },
 "nbformat": 4,
 "nbformat_minor": 5
}