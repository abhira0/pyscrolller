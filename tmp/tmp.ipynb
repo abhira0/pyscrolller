{
 "cells": [
  {
   "cell_type": "code",
   "execution_count": 3,
   "metadata": {},
   "outputs": [],
   "source": [
    "import requests\n",
    "import json"
   ]
  },
  {
   "cell_type": "code",
   "execution_count": 69,
   "metadata": {},
   "outputs": [],
   "source": [
    "ultimatum = {\"albums\":{}, \"medias\":{}}\n",
    "sub_name = \"chi_love\"\n",
    "# sub_name = \"Happydogs\"\n",
    "subreddit_query = {\"query\":\"query SubredditQuery( $url: String! $filter: SubredditPostFilter $iterator: String ) { getSubreddit(url: $url) { children( limit: 100 iterator: $iterator filter: $filter ) { iterator items { __typename url title subredditTitle subredditUrl redditPath isNsfw albumUrl isFavorite mediaSources { url width height isOptimized } } } } }\",\"variables\":{\"url\":f\"/r/{sub_name}\",\"filter\":None},\"authorization\":None}\n",
    "post_url = \"https://api.scrolller.com/api/v2/graphql\"\n",
    "albums = {}"
   ]
  },
  {
   "cell_type": "code",
   "execution_count": 94,
   "metadata": {},
   "outputs": [
    {
     "output_type": "stream",
     "name": "stdout",
     "text": [
      "<Response [200]>\n41\nNone\n"
     ]
    }
   ],
   "source": [
    "x = requests.post(post_url, json=subreddit_query)\n",
    "print(x)\n",
    "js = json.loads(x.text)\n",
    "js_items = js[\"data\"][\"getSubreddit\"][\"children\"]['items']\n",
    "print(len(js_items))\n",
    "for j in js_items:\n",
    "    url = j['url']\n",
    "    title = j['title']\n",
    "    albumUrl = j['albumUrl']\n",
    "    media_url = j[\"mediaSources\"][-1][\"url\"]\n",
    "    if albumUrl:\n",
    "        leest = albums.get(albumUrl, [])\n",
    "        if not leest:\n",
    "            leest = []\n",
    "        leest.append(media_url)\n",
    "        albums[albumUrl]=list(set(leest))\n",
    "\n",
    "        # print(title, albumUrl, media_url, sep=\"\\n\")\n",
    "        # print(json.dumps(j, indent=4))\n",
    "print(\"None\")"
   ]
  },
  {
   "cell_type": "code",
   "execution_count": 95,
   "metadata": {
    "tags": []
   },
   "outputs": [
    {
     "output_type": "execute_result",
     "data": {
      "text/plain": [
       "{'/hump-day-pics-62wwzex6tr': ['https://atto.scrolller.com/giving-this-asshole-the-finger-f30-efmh71nb7f.jpg'],\n",
       " '/pre-boob-job-pics-as-requested-4hiu40rbdu': ['https://yocto.scrolller.com/another-oldie-album-30-photos-1-l47m52zx1v.jpg'],\n",
       " '/the-best-part-of-an-mfm-is-when-my-husband-fucks-97rovujndo': ['https://yocto.scrolller.com/the-best-part-of-an-mfm-is-when-my-husband-fucks-1-dqovfqcq3o.png']}"
      ]
     },
     "metadata": {},
     "execution_count": 95
    }
   ],
   "source": [
    "albums"
   ]
  },
  {
   "cell_type": "code",
   "execution_count": 96,
   "metadata": {},
   "outputs": [],
   "source": [
    "\n",
    "album_url = \"\"\n",
    "album_query = {\"query\":\"query AlbumQuery( $url: String! $iterator: String ) { getAlbum(url: $url) { __typename url title isComplete isNsfw redditPath children( iterator: $iterator limit: 50 ) { iterator items { __typename mediaSources { url width height isOptimized } } } } }\",\"variables\":{\"url\":album_url},\"authorization\":None}"
   ]
  },
  {
   "cell_type": "code",
   "execution_count": 97,
   "metadata": {},
   "outputs": [
    {
     "output_type": "stream",
     "name": "stdout",
     "text": [
      "/hump-day-pics-62wwzex6tr 5 ['https://atto.scrolller.com/giving-this-asshole-the-finger-f30-efmh71nb7f.jpg', 'https://zepto.scrolller.com/hump-day-pics-2-alk4ho7yos.jpg', 'https://atto.scrolller.com/asian-pink-fishnets-nips-4-dxq4m7ffec.jpg', 'https://yocto.scrolller.com/hump-day-pics-5-e1et16v9xs.jpg', 'https://femto.scrolller.com/hump-day-pics-6-bcx3httdny.jpg'] \n",
      "\n",
      "\n",
      "/pre-boob-job-pics-as-requested-4hiu40rbdu 39 ['https://yocto.scrolller.com/another-oldie-album-30-photos-1-l47m52zx1v.jpg', 'https://yocto.scrolller.com/pre-boob-job-pics-as-requested-2-88pr63oah1.jpg', 'https://atto.scrolller.com/pre-boob-job-pics-as-requested-3-bnbh87ra4p.jpg', 'https://zepto.scrolller.com/pre-boob-job-pics-as-requested-4-8qivklyhpx.jpg', 'https://femto.scrolller.com/pre-boob-job-pics-as-requested-5-bi58fitdli.jpg', 'https://femto.scrolller.com/pre-boob-job-pics-as-requested-6-7ujjlsain5.jpg', 'https://atto.scrolller.com/pre-boob-job-pics-as-requested-7-f0oygmfi4j.jpg', 'https://yocto.scrolller.com/pre-boob-job-pics-as-requested-8-eeiicxyn18.jpg', 'https://femto.scrolller.com/pre-boob-job-pics-as-requested-9-1xqrd42ul4.jpg', 'https://zepto.scrolller.com/pre-boob-job-pics-as-requested-10-8ca33ypkr2.jpg', 'https://yocto.scrolller.com/pre-boob-job-pics-as-requested-11-8doegnxpgx.jpg', 'https://femto.scrolller.com/pre-boob-job-pics-as-requested-12-7h7r6czg7o.jpg', 'https://zepto.scrolller.com/pre-boob-job-pics-as-requested-13-is4u7gh0p3.jpg', 'https://atto.scrolller.com/pre-boob-job-pics-as-requested-14-3109yvygia.jpg', 'https://atto.scrolller.com/pre-boob-job-pics-as-requested-15-czqr3ul35p.jpg', 'https://femto.scrolller.com/pre-boob-job-pics-as-requested-16-by66esif59.jpg', 'https://zepto.scrolller.com/pre-boob-job-pics-as-requested-17-5t6v5qzaeg.jpg', 'https://yocto.scrolller.com/pre-boob-job-pics-as-requested-18-9u6b5s2pti.jpg', 'https://atto.scrolller.com/pre-boob-job-pics-as-requested-19-ayb72c9k9v.jpg', 'https://femto.scrolller.com/pre-boob-job-pics-as-requested-20-66e2yr9lrs.jpg', 'https://zepto.scrolller.com/pre-boob-job-pics-as-requested-21-6frgi6ex91.jpg', 'https://yocto.scrolller.com/pre-boob-job-pics-as-requested-22-xebc27o3dw.jpg', 'https://atto.scrolller.com/pre-boob-job-pics-as-requested-23-1zyku1a8ot.jpg', 'https://atto.scrolller.com/pre-boob-job-pics-as-requested-24-dgn044u4fn.jpg', 'https://zepto.scrolller.com/pre-boob-job-pics-as-requested-25-1qbqcqmeui.jpg', 'https://yocto.scrolller.com/pre-boob-job-pics-as-requested-26-btsxxpopic.jpg', 'https://femto.scrolller.com/pre-boob-job-pics-as-requested-27-1sh46m6xnt.jpg', 'https://femto.scrolller.com/pre-boob-job-pics-as-requested-28-92bii7vj7m.jpg', 'https://zepto.scrolller.com/pre-boob-job-pics-as-requested-29-12pewul9v1.jpg', 'https://yocto.scrolller.com/pre-boob-job-pics-as-requested-30-bbz8zz8ym4.jpg', 'https://atto.scrolller.com/pre-boob-job-pics-as-requested-31-bsyhoqo3gb.jpg', 'https://femto.scrolller.com/pre-boob-job-pics-as-requested-32-4u98hwxd9s.jpg', 'https://yocto.scrolller.com/pre-boob-job-pics-as-requested-33-998aec8uin.jpg', 'https://atto.scrolller.com/pre-boob-job-pics-as-requested-34-9aer8cgq74.jpg', 'https://zepto.scrolller.com/pre-boob-job-pics-as-requested-35-7cp1rjjtq2.jpg', 'https://femto.scrolller.com/pre-boob-job-pics-as-requested-36-14dru6sz72.jpg', 'https://yocto.scrolller.com/pre-boob-job-pics-as-requested-37-dih440hywl.jpg', 'https://atto.scrolller.com/pre-boob-job-pics-as-requested-38-220b3m16wa.jpg', 'https://femto.scrolller.com/pre-boob-job-pics-as-requested-39-b17bqefcpo.jpg'] \n",
      "\n",
      "\n",
      "/the-best-part-of-an-mfm-is-when-my-husband-fucks-97rovujndo 2 ['https://yocto.scrolller.com/the-best-part-of-an-mfm-is-when-my-husband-fucks-1-dqovfqcq3o.png', 'https://femto.scrolller.com/the-best-part-of-an-mfm-is-when-my-husband-fucks-2-551f9s77rn.jpg'] \n",
      "\n",
      "\n"
     ]
    }
   ],
   "source": [
    "for album_url in albums:\n",
    "    album_query = {\"query\":\"query AlbumQuery( $url: String! $iterator: String ) { getAlbum(url: $url) { __typename url title isComplete isNsfw redditPath children( iterator: $iterator limit: 50 ) { iterator items { __typename mediaSources { url width height isOptimized } } } } }\",\"variables\":{\"url\":album_url},\"authorization\":None}\n",
    "    x = requests.post(post_url, json=album_query)\n",
    "    js = json.loads(x.text)\n",
    "    js_items = js[\"data\"][\"getAlbum\"][\"children\"]['items']\n",
    "    media_link_list = [i[\"mediaSources\"][-1][\"url\"] for i in js_items]\n",
    "    print(album_url, len(media_link_list),media_link_list, \"\\n\\n\")"
   ]
  },
  {
   "cell_type": "code",
   "execution_count": null,
   "metadata": {},
   "outputs": [],
   "source": []
  },
  {
   "cell_type": "code",
   "execution_count": null,
   "metadata": {},
   "outputs": [],
   "source": []
  }
 ],
 "metadata": {
  "kernelspec": {
   "name": "python392jvsc74a57bd0ac59ebe37160ed0dfa835113d9b8498d9f09ceb179beaac4002f036b9467c963",
   "display_name": "Python 3.9.2 64-bit"
  },
  "language_info": {
   "codemirror_mode": {
    "name": "ipython",
    "version": 3
   },
   "file_extension": ".py",
   "mimetype": "text/x-python",
   "name": "python",
   "nbconvert_exporter": "python",
   "pygments_lexer": "ipython3",
   "version": "3.9.2"
  }
 },
 "nbformat": 4,
 "nbformat_minor": 5
}